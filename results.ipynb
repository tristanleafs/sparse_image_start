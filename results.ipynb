{
 "cells": [
  {
   "cell_type": "markdown",
   "metadata": {},
   "source": [
    "# Results of testing accuracy of the same CNN model with varying sparcities of data\n",
    "\n",
    "**Notes:**\n",
    "* These values are hard coded right now from me just eyeballing the results of each jupyter notebook\n",
    "* The values will vary slightly becuase I did not set random seeds for the notebooks\n",
    "* The only difference between the models was the sparcity of the data they were trained on\n",
    "* the models were tested on the same non-sparse data\n",
    "* the process of gettign these results is explained in \"test_baseline.ipynb\" and \"test_50_sparse.ipynb\""
   ]
  },
  {
   "cell_type": "code",
   "execution_count": 1,
   "metadata": {},
   "outputs": [],
   "source": [
    "import matplotlib.pyplot as plt"
   ]
  },
  {
   "cell_type": "code",
   "execution_count": 2,
   "metadata": {},
   "outputs": [],
   "source": [
    "results = {\n",
    "    \"baseline\": 98.01999926567078,\n",
    "    \"Sparse 50\": 95.77999711036682,\n",
    "    \"Sparse 70\" : 93.91999840736389,\n",
    "    \"Sparse 80\" : 82.70999789237976,\n",
    "    \"Sparse 90\" :  81.02999925613403\n",
    "}"
   ]
  },
  {
   "cell_type": "code",
   "execution_count": 3,
   "metadata": {},
   "outputs": [
    {
     "data": {
      "text/plain": [
       "dict_items([('baseline', 98.01999926567078), ('Sparse 50', 95.77999711036682), ('Sparse 70', 93.91999840736389), ('Sparse 80', 82.70999789237976), ('Sparse 90', 81.02999925613403)])"
      ]
     },
     "execution_count": 3,
     "metadata": {},
     "output_type": "execute_result"
    }
   ],
   "source": [
    "result_items = results.items()\n",
    "result_items"
   ]
  },
  {
   "cell_type": "code",
   "execution_count": 4,
   "metadata": {},
   "outputs": [
    {
     "data": {
      "text/plain": [
       "Text(0, 0.5, 'Accuracy %')"
      ]
     },
     "execution_count": 4,
     "metadata": {},
     "output_type": "execute_result"
    },
    {
     "data": {
      "image/png": "[encoded data removed]",
      "text/plain": [
       "<Figure size 432x288 with 1 Axes>"
      ]
     },
     "metadata": {
      "needs_background": "light"
     },
     "output_type": "display_data"
    }
   ],
   "source": [
    "x,y = zip(*result_items)\n",
    "plt.bar(x,y, align='center')\n",
    "plt.ylabel(\"Accuracy %\")\n"
   ]
  },
  {
   "cell_type": "markdown",
   "metadata": {},
   "source": [
    "I have no metrics for training time, but it looks the same for all the models. None of the models are built to use sparse data as of right now. Allowing a sparse model to take advantage of sparse data will be the next steps."
   ]
  },
  {
   "cell_type": "code",
   "execution_count": 5,
   "metadata": {},
   "outputs": [],
   "source": [
    "import pandas as pd"
   ]
  },
  {
   "cell_type": "code",
   "execution_count": 6,
   "metadata": {},
   "outputs": [
    {
     "data": {
      "text/html": [
       "<div>\n",
       "<style scoped>\n",
       "    .dataframe tbody tr th:only-of-type {\n",
       "        vertical-align: middle;\n",
       "    }\n",
       "\n",
       "    .dataframe tbody tr th {\n",
       "        vertical-align: top;\n",
       "    }\n",
       "\n",
       "    .dataframe thead th {\n",
       "        text-align: right;\n",
       "    }\n",
       "</style>\n",
       "<table border=\"1\" class=\"dataframe\">\n",
       "  <thead>\n",
       "    <tr style=\"text-align: right;\">\n",
       "      <th></th>\n",
       "      <th>0</th>\n",
       "      <th>1</th>\n",
       "    </tr>\n",
       "  </thead>\n",
       "  <tbody>\n",
       "    <tr>\n",
       "      <th>0</th>\n",
       "      <td>baseline</td>\n",
       "      <td>98.019999</td>\n",
       "    </tr>\n",
       "    <tr>\n",
       "      <th>1</th>\n",
       "      <td>Sparse 50</td>\n",
       "      <td>95.779997</td>\n",
       "    </tr>\n",
       "    <tr>\n",
       "      <th>2</th>\n",
       "      <td>Sparse 70</td>\n",
       "      <td>93.919998</td>\n",
       "    </tr>\n",
       "    <tr>\n",
       "      <th>3</th>\n",
       "      <td>Sparse 80</td>\n",
       "      <td>82.709998</td>\n",
       "    </tr>\n",
       "    <tr>\n",
       "      <th>4</th>\n",
       "      <td>Sparse 90</td>\n",
       "      <td>81.029999</td>\n",
       "    </tr>\n",
       "  </tbody>\n",
       "</table>\n",
       "</div>"
      ],
      "text/plain": [
       "           0          1\n",
       "0   baseline  98.019999\n",
       "1  Sparse 50  95.779997\n",
       "2  Sparse 70  93.919998\n",
       "3  Sparse 80  82.709998\n",
       "4  Sparse 90  81.029999"
      ]
     },
     "execution_count": 6,
     "metadata": {},
     "output_type": "execute_result"
    }
   ],
   "source": [
    "pd.DataFrame(result_items)"
   ]
  }
 ],
 "metadata": {
  "interpreter": {
   "hash": "7ec7c8b9c6f004e73a22991b2d5aac1b5bb4fb6917a547ec98a3bd6cd28dc1f8"
  },
  "kernelspec": {
   "display_name": "Python 3.8.12 64-bit ('venv_tf': conda)",
   "language": "python",
   "name": "python3"
  },
  "language_info": {
   "codemirror_mode": {
    "name": "ipython",
    "version": 3
   },
   "file_extension": ".py",
   "mimetype": "text/x-python",
   "name": "python",
   "nbconvert_exporter": "python",
   "pygments_lexer": "ipython3",
   "version": "3.8.12"
  },
  "orig_nbformat": 4
 },
 "nbformat": 4,
 "nbformat_minor": 2
}
